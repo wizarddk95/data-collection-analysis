{
 "cells": [
  {
   "cell_type": "markdown",
   "metadata": {},
   "source": [
    "## os.path.join 이란?\n",
    "\n",
    "서로 다른 경로 조각(폴더명, 파일명 등)을 **운영체제에 맞게 자동으로 이어주는 함수**\n",
    "\n",
    "- 운영체제마다 디렉토리 구분자가 다릅니다.\n",
    "    - Windows: \\\n",
    "    - Linux, macOS: /\n",
    "\n",
    "- os.path.join은 이런 구분자를 자동으로 맞춰줍니다."
   ]
  },
  {
   "cell_type": "code",
   "execution_count": 2,
   "metadata": {},
   "outputs": [
    {
     "name": "stdout",
     "output_type": "stream",
     "text": [
      "폴더1\\폴더2\\폴더3\n"
     ]
    }
   ],
   "source": [
    "import os\n",
    "\n",
    "path = os.path.join(\"폴더1\", \"폴더2\", \"폴더3\")\n",
    "print(path)"
   ]
  },
  {
   "cell_type": "code",
   "execution_count": 4,
   "metadata": {},
   "outputs": [
    {
     "name": "stdout",
     "output_type": "stream",
     "text": [
      "C:\\Data\\data.csv\n"
     ]
    }
   ],
   "source": [
    "folder = \"C:\\\\Data\"\n",
    "filename = \"data.csv\"\n",
    "\n",
    "full_path = os.path.join(folder, filename)\n",
    "print(full_path)\n"
   ]
  },
  {
   "cell_type": "markdown",
   "metadata": {},
   "source": [
    "### 주의 사항\n",
    "os.path.join은 첫 번째 절대경로(예: C:\\ 같은 것)이 있으면, 그 이후 경로는 무시하고 새로 연결합니다."
   ]
  },
  {
   "cell_type": "code",
   "execution_count": 5,
   "metadata": {},
   "outputs": [
    {
     "data": {
      "text/plain": [
       "'D:\\\\New\\\\file.txt'"
      ]
     },
     "execution_count": 5,
     "metadata": {},
     "output_type": "execute_result"
    }
   ],
   "source": [
    "os.path.join(\"C:\\\\Data\", \"D:\\\\New\", \"file.txt\")"
   ]
  },
  {
   "cell_type": "markdown",
   "metadata": {},
   "source": [
    "## 크롬 드라이버\n",
    "\n",
    "크롬 드라이버는 컴퓨터가 크롬 웹 브라우저를 다룰 수 있도록 해주는 프로그램으로 구글에서 제공 해줌\n",
    "\n",
    "크롬 드라이버는 코드를 실행 시키면 자동으로 다운로드 되니 별도 설치가 필요 없음"
   ]
  },
  {
   "cell_type": "markdown",
   "metadata": {},
   "source": [
    "## selenium \n",
    "\n",
    "1. 조작을 원하는 버튼이나 입력창의 html을 파악\n",
    "\n",
    "2. 아래 두 함수에 html 정보를 입력해서 객체(버튼/입력창 등) 선택\n",
    "- find_element(By.ID)\n",
    "- find_element(By.CLASS_NAME)\n",
    "- find_element(By.XPATH)\n",
    "- find_element(By.CSS_SELECTOR)\n",
    "\n",
    "3. 기능 동작 관련 함수로 원하는 기능 조작\n",
    "- 클릭: click()\n",
    "- 키 입력: send_keys()"
   ]
  },
  {
   "cell_type": "markdown",
   "metadata": {},
   "source": [
    "## 버전 관리\n",
    "\n",
    "Git을 사용하여 프로젝트를 관리\n",
    "\n",
    "먼저 .gitignore 파일을 생성하여 불필요한 파일들이 Git에 포함되지 않도록 설정\n",
    "→ .gitignore 파일을 프로젝트폴더에 생성\n",
    "\n",
    "Git 저장소를 초기화하고 현재 상태를 커밋\n",
    "→ git init\n",
    "→ git add .\n",
    "\n",
    "→ git commit -m \"Initial commit: Project setup with stock sntiment analysis\"\n",
    "\n",
    "Git 저장소가 초기화되고 첫 번째 커밋이 생성됨. 프로젝트 상태는 다음과 같음\n",
    "\n",
    "현재 상태:\n",
    "    - 초기 커밋이 생성됨\n",
    "    - .gitignore 파일이 설정되어 불필요한 파일들이 Git에 포함되지 않도록 함\n",
    "    - 모든 프로젝트 파일이 Git에 추가됨\n",
    "\n",
    "GitHub에 연결하려면 다음 단계가 필요\n",
    "1. GitHub에서 새 저장소를 생성\n",
    "2. 생성된 저장소의 URL을 사용하여 원격 저장소를 추가\n",
    "3. 코드를 GitHub에 푸시\n",
    "\n",
    "주요 명령어 정리\n",
    "- git init : 새로운 Git 저장소 초기화\n",
    "- git add . : 모든 변경된 파일을 스테이징 영역에 추가\n",
    "- git commit -m \"메시지\" : 스테이징된 변경사항을 커밋\n",
    "- git status : 현재 저장소의 상태 확인\n",
    "- git log : 커밋 히스토리 확인\n",
    "- git remote add origin [URL] : 원격 저장소 추가\n",
    "- git push -u origin master : 변경사항을 원격 저장소에 푸시\n",
    "\n",
    "\n",
    "깃헙과 연결하기\n",
    "1. GitHub에 직접 레포지토리를 생성하고 URL을 통해 로컬저장소와 GitHub 저장소를 연결\n",
    "→ git remote add origin https://github.com/your_name/repository_name.git\n",
    "\n",
    "2. 코드를 GitHub에 푸시하기\n",
    "→ git push -u origin master\n",
    "\n",
    "이제 프로젝트가 GitHub에서 관리됨<br>\n",
    "현재 상태:\n",
    "1. 로컬 저장소가 GitHub 저장소와 연결됨\n",
    "2. 모든 코드가 GitHub에 푸시됨\n",
    "3. master 브랜치가 origin/master를 추적하도록 설정됨\n",
    "\n",
    "코드 변경 시 다음 명령어로 GitHub에 업데이트 가능\n",
    "→ git add .\n",
    "→ git commit -m \"변경 내용 설명\"\n",
    "→ git push"
   ]
  }
 ],
 "metadata": {
  "kernelspec": {
   "display_name": "py311",
   "language": "python",
   "name": "python3"
  },
  "language_info": {
   "codemirror_mode": {
    "name": "ipython",
    "version": 3
   },
   "file_extension": ".py",
   "mimetype": "text/x-python",
   "name": "python",
   "nbconvert_exporter": "python",
   "pygments_lexer": "ipython3",
   "version": "3.11.11"
  }
 },
 "nbformat": 4,
 "nbformat_minor": 2
}
