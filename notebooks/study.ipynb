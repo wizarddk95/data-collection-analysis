{
 "cells": [
  {
   "cell_type": "markdown",
   "metadata": {},
   "source": [
    "## os.path.join 이란?\n",
    "\n",
    "서로 다른 경로 조각(폴더명, 파일명 등)을 **운영체제에 맞게 자동으로 이어주는 함수**\n",
    "\n",
    "- 운영체제마다 디렉토리 구분자가 다릅니다.\n",
    "    - Windows: \\\n",
    "    - Linux, macOS: /\n",
    "\n",
    "- os.path.join은 이런 구분자를 자동으로 맞춰줍니다."
   ]
  },
  {
   "cell_type": "code",
   "execution_count": 2,
   "metadata": {},
   "outputs": [
    {
     "name": "stdout",
     "output_type": "stream",
     "text": [
      "폴더1\\폴더2\\폴더3\n"
     ]
    }
   ],
   "source": [
    "import os\n",
    "\n",
    "path = os.path.join(\"폴더1\", \"폴더2\", \"폴더3\")\n",
    "print(path)"
   ]
  },
  {
   "cell_type": "code",
   "execution_count": 4,
   "metadata": {},
   "outputs": [
    {
     "name": "stdout",
     "output_type": "stream",
     "text": [
      "C:\\Data\\data.csv\n"
     ]
    }
   ],
   "source": [
    "folder = \"C:\\\\Data\"\n",
    "filename = \"data.csv\"\n",
    "\n",
    "full_path = os.path.join(folder, filename)\n",
    "print(full_path)\n"
   ]
  },
  {
   "cell_type": "markdown",
   "metadata": {},
   "source": [
    "### 주의 사항\n",
    "os.path.join은 첫 번째 절대경로(예: C:\\ 같은 것)이 있으면, 그 이후 경로는 무시하고 새로 연결합니다."
   ]
  },
  {
   "cell_type": "code",
   "execution_count": 5,
   "metadata": {},
   "outputs": [
    {
     "data": {
      "text/plain": [
       "'D:\\\\New\\\\file.txt'"
      ]
     },
     "execution_count": 5,
     "metadata": {},
     "output_type": "execute_result"
    }
   ],
   "source": [
    "os.path.join(\"C:\\\\Data\", \"D:\\\\New\", \"file.txt\")"
   ]
  },
  {
   "cell_type": "markdown",
   "metadata": {},
   "source": [
    "## 크롬 드라이버\n",
    "\n",
    "크롬 드라이버는 컴퓨터가 크롬 웹 브라우저를 다룰 수 있도록 해주는 프로그램으로 구글에서 제공 해줌\n",
    "\n",
    "크롬 드라이버는 코드를 실행 시키면 자동으로 다운로드 되니 별도 설치가 필요 없음"
   ]
  },
  {
   "cell_type": "markdown",
   "metadata": {},
   "source": [
    "## selenium \n",
    "\n",
    "1. 조작을 원하는 버튼이나 입력창의 html을 파악\n",
    "\n",
    "2. 아래 두 함수에 html 정보를 입력해서 객체(버튼/입력창 등) 선택\n",
    "- find_element(By.ID)\n",
    "- find_element(By.CLASS_NAME)\n",
    "- find_element(By.XPATH)\n",
    "- find_element(By.CSS_SELECTOR)\n",
    "\n",
    "3. 기능 동작 관련 함수로 원하는 기능 조작\n",
    "- 클릭: click()\n",
    "- 키 입력: send_keys()"
   ]
  },
  {
   "cell_type": "markdown",
   "metadata": {},
   "source": [
    "## 버전 관리\n",
    "\n",
    "Git을 사용하여 프로젝트를 관리\n",
    "\n",
    "먼저 .gitignore 파일을 생성하여 불필요한 파일들이 Git에 포함되지 않도록 설정\n",
    "→ .gitignore 파일을 프로젝트폴더에 생성\n",
    "\n",
    "Git 저장소를 초기화하고 현재 상태를 커밋\n",
    "→ git init\n",
    "→ git add .\n",
    "\n",
    "→ git commit -m \"Initial commit: Project setup with stock sntiment analysis\"\n",
    "\n",
    "Git 저장소가 초기화되고 첫 번째 커밋이 생성됨. 프로젝트 상태는 다음과 같음\n",
    "\n",
    "현재 상태:\n",
    "    - 초기 커밋이 생성됨\n",
    "    - .gitignore 파일이 설정되어 불필요한 파일들이 Git에 포함되지 않도록 함\n",
    "    - 모든 프로젝트 파일이 Git에 추가됨\n",
    "\n",
    "GitHub에 연결하려면 다음 단계가 필요\n",
    "1. GitHub에서 새 저장소를 생성\n",
    "2. 생성된 저장소의 URL을 사용하여 원격 저장소를 추가\n",
    "3. 코드를 GitHub에 푸시\n",
    "\n",
    "주요 명령어 정리\n",
    "- git init : 새로운 Git 저장소 초기화\n",
    "- git add . : 모든 변경된 파일을 스테이징 영역에 추가\n",
    "- git commit -m \"메시지\" : 스테이징된 변경사항을 커밋\n",
    "- git status : 현재 저장소의 상태 확인\n",
    "- git log : 커밋 히스토리 확인\n",
    "- git remote add origin [URL] : 원격 저장소 추가\n",
    "- git push -u origin master : 변경사항을 원격 저장소에 푸시\n",
    "\n",
    "\n",
    "깃헙과 연결하기\n",
    "1. GitHub에 직접 레포지토리를 생성하고 URL을 통해 로컬저장소와 GitHub 저장소를 연결\n",
    "→ git remote add origin https://github.com/your_name/repository_name.git\n",
    "\n",
    "2. 코드를 GitHub에 푸시하기\n",
    "→ git push -u origin master\n",
    "\n",
    "이제 프로젝트가 GitHub에서 관리됨<br>\n",
    "현재 상태:\n",
    "1. 로컬 저장소가 GitHub 저장소와 연결됨\n",
    "2. 모든 코드가 GitHub에 푸시됨\n",
    "3. master 브랜치가 origin/master를 추적하도록 설정됨\n",
    "\n",
    "코드 변경 시 다음 명령어로 GitHub에 업데이트 가능\n",
    "→ git add .\n",
    "→ git commit -m \"변경 내용 설명\"\n",
    "→ git push"
   ]
  },
  {
   "cell_type": "markdown",
   "metadata": {},
   "source": [
    "## 목표\n",
    "1. 병렬화 : 게시글 본문 수집을 동시에 여러 탭/스레드로 빠르게\n",
    "2. 다중 종목 동시 수집 : 여러 종목 코드를 병렬 또는 순차적으로 수집\n",
    "3. 일간 자동 업데이트 : 최초 2개월치 수집 후, 매일 하루치 데이터만 추가 저장\n",
    "\n",
    "### 1단계: 병렬화 (본문 수집 병렬)\n",
    "1. 구조 설계\n",
    "    - 현재는 본문을 한 번에 하나씩 열어서 읽고 닫고를 반복\n",
    "    - 병렬화<br>\n",
    "        → 게시글 링크만 모아놓고 ThreadPoolExecutor로 동시에 여러 탭을 열어 본문 수집\n",
    "    - Selenium은 스레드 안전(thread-safe)이 아니기 때문에, 병렬로 driver를 새로 띄우는 방식으로\n",
    "\n",
    "2. 수집 흐름\n",
    "페이지별 게시글 목록 긁기\n",
    "    - 링크 + 메타정보 저장\n",
    "    - ThreadPoolExecutor로 본문 병렬 수집\n",
    "    - 결과 통합\n",
    "\n",
    "3. 기술 스택\n",
    "    - concurent.futures.ThreadPoolExecutor\n",
    "    - 본문 수집 함수 정의 → submit → 결과 수집\n",
    "\n",
    "### 2단계: 여러 종목 동시에 수집\n",
    "1. 구조 설계\n",
    "    - 종목 리스트를 입력받아 for 루프\n",
    "    - 또는 종목별로 별도 스레드를 만들어 동시 수집\n",
    "\n",
    "안전한 순서\n",
    "    - 처음에는 for문(순차적)으로 여러 종목을 처리\n",
    "    - 나중에 속도 욕심나면 종목 단위로도 병렬 가능\n",
    "\n",
    "2. 기술 스택\n",
    "    - 간단 for문\n",
    "    - 또는 ThreadPoolExecutor로 종목 단위로 병렬화\n",
    "\n",
    "### 3단계: 주기적 자동화 (스케줄러)\n",
    "1. 구조 설계\n",
    "- 최초 수집 : 2달치 전체 데이터\n",
    "- 이후: 하루 1회 (가장 최근 하루치)만 수집\n",
    "- 날짜 필터링 로직 추가\n",
    "\n",
    "2. 기술 스택\n",
    "- Python 스케줄링: schedule, ASPcheduler, cron 등\n",
    "- Docker/EC2 + crontab으로 운영 가능 (추후 배포 시)\n",
    "\n",
    "\n",
    "📂 프로젝트 루트<br>\n",
    "├── crawler.py (본문: 수집 및 저장)<br>\n",
    "├── config.py (수집할 종목 리스트, 설정파일)<br>\n",
    "├── scheduler.py (자동 주기 실행 파일)<br>\n",
    "├── utils.py (공통 유틸: 날짜 필터, 파일 저장 등)<br>\n",
    "├── data/<br>\n",
    "├── └── 종목별 csv 저장<br>\n",
    "└── README.md<br>\n"
   ]
  },
  {
   "cell_type": "markdown",
   "metadata": {},
   "source": [
    "## 수집 코드 뜯어보기\n",
    "\n",
    "### 큰 구조는 다음과 같음\n",
    "- collect_stock_data(stock_code) : 특정 종목 전체 게시글 수집\n",
    "- collect_post_data(driver, post_link) : 게시글 본문 수집\n",
    "- main() : 여러 종목을 병렬로 수집하는 메인 제어 함수\n",
    "\n",
    "### 함수별 세부 설명\n",
    "1. collect_stock_data(stock_code)\n",
    "\n",
    "\n",
    "2. collect_post_data(driver, post_link)\n",
    "- 목적: 하나의 게시글 본문을 수집하는 함수\n",
    "- 구체적 동작:\n",
    "    1. driver.execute_script(\"window.open('링크')\")로 새 탭을 연다.\n",
    "    2. driver.switch_to.window()로 새 탭으로 이동한다.\n",
    "    3. WebDriverWait로 본문 내용(#body)이 나타날 때까지 기다린다.\n",
    "    4. 본문 텍스트를 수집한다.\n",
    "    5. 수집 완료 후, 새 탭을 닫고 다시 원래 탭으로 돌아온다.\n",
    "- 본문을 열고 닫는 모든 과정을 함수 안에서 해결 → 본문이 없으면 '본문 수집 실패'로 대체\n",
    "\n",
    "3. main()\n",
    "- 목적: 여러 종목을 병렬로 수집 관리\n",
    "- 구체적 동작:\n",
    "    1. ThreadPoolExecutor(max_worker=5)를 열어,\n",
    "    2. executor.map(collect_stock_data, STOCK_CODE)를 통해\n",
    "    3. 종목별로 동시에 collect_stock_data(stock_code)를 실행\n",
    "- 핵심 포인트:\n",
    "    - 종목 단위 병렬화\n",
    "    - 한 종목마다 독립된 driver 생성 및 수집 진행\n",
    "    - 종목 수가 많아도 빠르고 안전하게 완료할 수 있다\n",
    "\n",
    "\n"
   ]
  },
  {
   "cell_type": "raw",
   "metadata": {
    "vscode": {
     "languageId": "raw"
    }
   },
   "source": [
    "[main]\n",
    "  └─ ThreadPoolExecutor(5개 스레드)\n",
    "       ├─ [collect_stock_data(\"005930\")] 삼성전자\n",
    "       │     ├─ driver 열고\n",
    "       │     ├─ 게시글들 순차 수집\n",
    "       │     ├─ 본문 열기→읽기→닫기\n",
    "       │     └─ 완료 후 CSV 저장\n",
    "       ├─ [collect_stock_data(\"000660\")] SK하이닉스\n",
    "       ├─ [collect_stock_data(\"035720\")] 카카오\n",
    "       └─ ..."
   ]
  },
  {
   "cell_type": "markdown",
   "metadata": {},
   "source": [
    "## 외부에서 프로젝트 작업하는 법\n",
    "\n",
    "- Github = 프로젝트(Repository)를 저장하는 중앙 저장소\n",
    "- 집 컴퓨터에서는 Github에 push해서 저장했고,\n",
    "- 외부 컴퓨터에서는 Github에 저장된 프로젝트를 clone해서 가져오고, 이후부터 push/pull 동기화하면서 작업하면 됨\n",
    "\n",
    "\n",
    "## 구체적 절차 정리\n",
    "1. 외부 컴퓨터에 Git 설치가 되어 있어야 함\n",
    "\n",
    "2. 터미널 열고, 프로젝트를 복사하고 싶은 폴더로 이동<br>\n",
    "→ cd 원하는_폴더\n",
    "\n",
    "3. Github에 올라가 있는 프로젝트 URL 복사<br>\n",
    "→ https://github.com/user_name/project_name.git\n",
    "\n",
    "4. clone 명령어로 프로젝트 전체 복사<br>\n",
    "→ git clone https://github.com/user_name/project_name.git\n",
    "\n",
    "5. 복제(clone)가 완료되면, 이제 로컬 컴퓨터에 프로젝트 폴더가 생긴다.\n",
    "\n",
    "6. 이후부터는 외부 컴퓨터에서\n",
    "    - 작업\n",
    "    - git add .\n",
    "    - git commit -m \"메시지\"\n",
    "    - git push\n",
    "    - 이 순서로 Github에 반영하면 됨\n",
    "    \n",
    "7. 집 컴퓨터에 다시 돌아갔을 때는 pull해서 동기화!\n",
    "\n",
    "\n",
    "\n"
   ]
  },
  {
   "cell_type": "raw",
   "metadata": {
    "vscode": {
     "languageId": "raw"
    }
   },
   "source": [
    "[집 컴퓨터]\n",
    "  └─ 작업 → git add → git commit → git push → Github 저장\n",
    "\n",
    "[외부 컴퓨터]\n",
    "  └─ git clone → (작업) → git add → git commit → git push → Github 저장\n",
    "\n",
    "[집 컴퓨터로 돌아오면]\n",
    "  └─ git pull → 최신화된 상태로 이어서 작업\n"
   ]
  },
  {
   "cell_type": "markdown",
   "metadata": {},
   "source": [
    "## 주의할 점\n",
    "\n",
    "동일 Github 계정 사용 → 외부 컴퓨터에도 같은 계정(SSH Key 또는 PAT 설정)으로 인증해야 함\n",
    "\n",
    "git config 설정 확인 → 외부 컴퓨터에서 사용자 이름, 이메일 설정하기\n",
    "\n",
    "충돌 주의 → 두 컴퓨터에서 같은 파일을 동시에 수정하면 push할 때 충돌이 생길 수 있음\n",
    "\n",
    ".gitignore 설정 확인 → 환경마다 다른 파일(예: 가상환경 폴더, 설정 파일)은 무조건 gitignore 처리\n"
   ]
  },
  {
   "cell_type": "markdown",
   "metadata": {},
   "source": [
    "## 외부 컴퓨터에 git 설정하는 기본 명령어들\n",
    "\n",
    "git config --global user.name \"Your Name\"\n",
    "\n",
    "git config --global user.email \"your.email@example.com\"\n"
   ]
  }
 ],
 "metadata": {
  "kernelspec": {
   "display_name": "py311",
   "language": "python",
   "name": "python3"
  },
  "language_info": {
   "codemirror_mode": {
    "name": "ipython",
    "version": 3
   },
   "file_extension": ".py",
   "mimetype": "text/x-python",
   "name": "python",
   "nbconvert_exporter": "python",
   "pygments_lexer": "ipython3",
   "version": "3.11.11"
  }
 },
 "nbformat": 4,
 "nbformat_minor": 2
}
