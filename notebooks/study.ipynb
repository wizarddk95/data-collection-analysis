{
 "cells": [
  {
   "cell_type": "markdown",
   "metadata": {},
   "source": [
    "## os.path.join 이란?\n",
    "\n",
    "서로 다른 경로 조각(폴더명, 파일명 등)을 **운영체제에 맞게 자동으로 이어주는 함수**\n",
    "\n",
    "- 운영체제마다 디렉토리 구분자가 다릅니다.\n",
    "    - Windows: \\\n",
    "    - Linux, macOS: /\n",
    "\n",
    "- os.path.join은 이런 구분자를 자동으로 맞춰줍니다."
   ]
  },
  {
   "cell_type": "code",
   "execution_count": 2,
   "metadata": {},
   "outputs": [
    {
     "name": "stdout",
     "output_type": "stream",
     "text": [
      "폴더1\\폴더2\\폴더3\n"
     ]
    }
   ],
   "source": [
    "import os\n",
    "\n",
    "path = os.path.join(\"폴더1\", \"폴더2\", \"폴더3\")\n",
    "print(path)"
   ]
  },
  {
   "cell_type": "code",
   "execution_count": 4,
   "metadata": {},
   "outputs": [
    {
     "name": "stdout",
     "output_type": "stream",
     "text": [
      "C:\\Data\\data.csv\n"
     ]
    }
   ],
   "source": [
    "folder = \"C:\\\\Data\"\n",
    "filename = \"data.csv\"\n",
    "\n",
    "full_path = os.path.join(folder, filename)\n",
    "print(full_path)\n"
   ]
  },
  {
   "cell_type": "markdown",
   "metadata": {},
   "source": [
    "### 주의 사항\n",
    "os.path.join은 첫 번째 절대경로(예: C:\\ 같은 것)이 있으면, 그 이후 경로는 무시하고 새로 연결합니다."
   ]
  },
  {
   "cell_type": "code",
   "execution_count": 5,
   "metadata": {},
   "outputs": [
    {
     "data": {
      "text/plain": [
       "'D:\\\\New\\\\file.txt'"
      ]
     },
     "execution_count": 5,
     "metadata": {},
     "output_type": "execute_result"
    }
   ],
   "source": [
    "os.path.join(\"C:\\\\Data\", \"D:\\\\New\", \"file.txt\")"
   ]
  },
  {
   "cell_type": "markdown",
   "metadata": {},
   "source": [
    "## 크롬 드라이버\n",
    "\n",
    "크롬 드라이버는 컴퓨터가 크롬 웹 브라우저를 다룰 수 있도록 해주는 프로그램으로 구글에서 제공 해줌\n",
    "\n",
    "크롬 드라이버는 코드를 실행 시키면 자동으로 다운로드 되니 별도 설치가 필요 없음"
   ]
  },
  {
   "cell_type": "markdown",
   "metadata": {},
   "source": [
    "## selenium \n",
    "\n",
    "1. 조작을 원하는 버튼이나 입력창의 html을 파악\n",
    "\n",
    "2. 아래 두 함수에 html 정보를 입력해서 객체(버튼/입력창 등) 선택\n",
    "- find_element(By.ID)\n",
    "- find_element(By.CLASS_NAME)\n",
    "- find_element(By.XPATH)\n",
    "- find_element(By.CSS_SELECTOR)\n",
    "\n",
    "3. 기능 동작 관련 함수로 원하는 기능 조작\n",
    "- 클릭: click()\n",
    "- 키 입력: send_keys()"
   ]
  }
 ],
 "metadata": {
  "kernelspec": {
   "display_name": "py311",
   "language": "python",
   "name": "python3"
  },
  "language_info": {
   "codemirror_mode": {
    "name": "ipython",
    "version": 3
   },
   "file_extension": ".py",
   "mimetype": "text/x-python",
   "name": "python",
   "nbconvert_exporter": "python",
   "pygments_lexer": "ipython3",
   "version": "3.11.11"
  }
 },
 "nbformat": 4,
 "nbformat_minor": 2
}
