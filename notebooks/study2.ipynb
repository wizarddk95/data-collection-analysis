{
 "cells": [
  {
   "cell_type": "markdown",
   "metadata": {},
   "source": [
    "## 주식 센티먼트 분석\n",
    "\n",
    "목표 방식 → 제목/본문마다 감성 점수를 0.0 ~ 1.0 사이의 연속값으로 예측\n",
    "기대 효과 → 감정의 세기를 정밀하게 반영하고, 이후 수치 데이터와 통합하기 쉬워짐\n",
    "\n",
    "### 어떻게 접근할 수 있을까? (크게 2가지 방법)\n",
    "1. 사전 학습된 감성 점수 모델 사용\n",
    "- 대표적으로 Huggingface 같은 데 보면, 감성점수를 0~1로 예측하는 모델들이 있음\n",
    "- 예시 모델들:\n",
    "    - nlptown/bert-base-multilingual-uncased-sentiment\n",
    "    - cardiffnlp/twitter-roberta-base-sentiment\n",
    "    - distilbert-base-uncased-finetuned-sst-2-english"
   ]
  },
  {
   "cell_type": "markdown",
   "metadata": {},
   "source": [
    "2. 직접 0~1 감성 점수로 Fine-tuning 하기 (Regression Task)\n",
    "- 직접 데이터셋을 만들어서 텍스트 → 감성 점수(0~1)를 직접 예측하는 regression 모델을 fine-tune 할 수도 있음\n",
    "\n",
    "예를 들어: <br>\n",
    "- \"이 주식은 대박이다\" → 0.9 <br>\n",
    "- \"별로 기대하지 않는다\" → 0.2 <br>\n",
    "- \"약간 걱정된다\" → 0.4 <br>\n",
    "\n",
    "이런 식으로 데이터를 만들고, BERT 기반 모델을 회귀모델로 학습시키는 것\n",
    "\n",
    "BERT 기반 모델이란?<br>\n",
    "2018년 구글에서 발표한 혁신적인 자연어 처리 모델. BERT는 Transformer 아키텍처를 기반으로 하며, 양방향 학습 방식을 채택하여 문맥을 깊이 있게 이해하는 능력이 뛰어남\n",
    "\n",
    "## 추가적으로 고려할 점\n",
    "\n",
    "Normalization\n",
    "- 0~1 사이로 스케일을 안정화할 때, softmax 확률을 활용할 수 있음\n",
    "\n",
    "Threshold 설정 자유로움\n",
    "- 이후 필요에 따라 0.7 이상을 '강한 긍정', 0.3 이하를 '강한 부정'처럼 다시 구간을 나눌 수 있음\n",
    "\n",
    "감성 '강도'도 반영 가능\n",
    "- 단순 polarity(방향성) 뿐만 아니라 '어느 정도 강하게 긍정/부정인가'까지 수치화 가능\n",
    "\n",
    "## 요약\n",
    "접근 법\n",
    "- 사전 학습 모델 사용 : pretrained 모델의 softmax score 활용\n",
    "- 직접 학습 : 제목/본문을 0~1 점수로 직접 라벨링하고 regression fine-tune\n",
    "\n",
    "\n",
    "\n",
    "\n",
    "\n",
    "\n",
    "\n"
   ]
  }
 ],
 "metadata": {
  "kernelspec": {
   "display_name": "py311",
   "language": "python",
   "name": "python3"
  },
  "language_info": {
   "codemirror_mode": {
    "name": "ipython",
    "version": 3
   },
   "file_extension": ".py",
   "mimetype": "text/x-python",
   "name": "python",
   "nbconvert_exporter": "python",
   "pygments_lexer": "ipython3",
   "version": "3.11.11"
  }
 },
 "nbformat": 4,
 "nbformat_minor": 2
}
